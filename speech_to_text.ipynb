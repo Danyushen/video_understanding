{
 "cells": [
  {
   "cell_type": "code",
   "execution_count": 2,
   "metadata": {},
   "outputs": [
    {
     "data": {
      "text/plain": [
       "True"
      ]
     },
     "execution_count": 2,
     "metadata": {},
     "output_type": "execute_result"
    }
   ],
   "source": [
    "import whisper\n",
    "import os\n",
    "from moviepy import VideoFileClip\n",
    "import torch\n",
    "torch.cuda.is_available()"
   ]
  },
  {
   "cell_type": "code",
   "execution_count": 2,
   "metadata": {},
   "outputs": [],
   "source": [
    "def mp4_to_wav(mp4_file, wav_file):\n",
    "    video = VideoFileClip(mp4_file)\n",
    "    video.audio.write_audiofile(wav_file)\n",
    "    video.close()"
   ]
  },
  {
   "cell_type": "code",
   "execution_count": 3,
   "metadata": {},
   "outputs": [],
   "source": [
    "def transcribe_audio(model, video, audio_path, sub_path):\n",
    "    transcript = model.transcribe(\n",
    "        word_timestamps=True,\n",
    "        audio=audio_path\n",
    "    )\n",
    "\n",
    "    with open(f'{sub_path}/{video[:-4]}_sub.txt', \"w\") as f:\n",
    "        for segment in transcript['segments']:\n",
    "            #word-level\n",
    "    #       f.write(''.join(f\"{word['word']}[{word['start']}/{word['end']}]\" \n",
    "    #                   for word in segment['words']) + \"\\n\")\n",
    "            #sentence-level\n",
    "            f.write(f\"{segment['text']} [{segment['start']}/{segment['end']}]\\n\")\n",
    "    \n",
    "    pass"
   ]
  },
  {
   "cell_type": "code",
   "execution_count": null,
   "metadata": {},
   "outputs": [],
   "source": [
    "video_path = \"/data1/video_understanding/1-99-videos\"\n",
    "audio_path = \"/data1/video_understanding/dataset/audio\"\n",
    "sub_path = \"/data1/video_understanding/dataset/sub\"\n",
    "\n",
    "model = whisper.load_model(\"base\", device=\"cuda\")\n",
    "\n",
    "for video in os.listdir(video_path):\n",
    "    if video.endswith('.mp4'):\n",
    "        mp4_to_wav(f'{video_path}/{video}', f'{audio_path}/{video[:-4]}.wav')\n",
    "        transcribe_audio(model, video, f'{audio_path}/{video[:-4]}.wav', sub_path)\n",
    "    else:\n",
    "        print(f'incorrect file type: {video}')"
   ]
  },
  {
   "cell_type": "code",
   "execution_count": 9,
   "metadata": {},
   "outputs": [
    {
     "name": "stdout",
     "output_type": "stream",
     "text": [
      "783_81958189535601378_BV1owsKeAEpk.mp4\n",
      "606_349662794_BV1uR4y1S7fX.mp4\n",
      "一边水淹脚脖子另一边穿救生衣开派对【泰坦尼克号】十万字拆解⑾重新解读.mp4\n",
      "影史最具灵性电影【少年派的奇幻漂流】终极解读！为啥用泳池给派起名？①拉片.mp4\n",
      "826_81830119658725483_BV1jQxjeYENm.mp4\n",
      "813_864506821_BV1q54y1P75w.mp4\n",
      "886_81830119171734322_BV18Nx7e9EZH.mp4\n",
      "754_81702032454265643_BV1ya4Re9Exg.mp4\n",
      "627_966475780_BV1YW4y1w7Ey.mp4\n",
      "879_113155980139794_BV16at3eZEwu.mp4\n",
      "876_81573984171306899_BV1vZthekEAC.mp4\n",
      "958_403221325_BV1AV411T7tq.mp4\n",
      "618_-542213852_BV1Bm421N7sJ.mp4\n",
      "623_-496768815_BV19j421X7VS.mp4\n",
      "790_80805596442100909_BV1f1e1eBEBM.mp4\n",
      "965_403044989_BV16V411M7uj.mp4\n",
      "786_80933674422371323_BV1xwYpe2Ejn.mp4\n",
      "924_-1046335315_BV1Bw4m1f7HZ.mp4\n",
      "679_322412243_BV1Nw411r7hr.mp4\n",
      "834_84135239052364014_BV1gjTkemES8.mp4\n",
      "849_113193829535041_BV1aFseeMEZm.mp4\n",
      "616_-891633552_BV1tJ4m1u7Mo.mp4\n",
      "622_-695942325_BV1ii421d7Yq.mp4\n",
      "619_-592247135_BV1s142127zp.mp4\n",
      "891_81958174688227787_BV16zsbeKEx4.mp4\n",
      "896_81573992056530198_BV1VztEeTE5H.mp4\n",
      "984_774088228_BV1V14y1E7aR.mp4\n",
      "971_955317532_BV13s4y1F7JV.mp4\n",
      "913_82086224646420977_BV11qWSeNEPg.mp4\n",
      "744_113166734328692_BV1PAtde4EhJ.mp4\n",
      "711_836945709_BV1Yg4y1e7gg.mp4\n",
      "630_834902664_BV1Cg4y117CT.mp4\n",
      "1004_-492582371_BV1nE421F7ts.mp4\n",
      "625_-1047344875_BV12A4m1L739.mp4\n",
      "838_-393926396_BV1Zt421w7gt.mp4\n",
      "766_-441162787_BV1nT42167uP.mp4\n",
      "750_81958161115457373_BV1vxsDesEGp.mp4\n",
      "987_81830103568895933_BV1xpxkeEEPC.mp4\n",
      "索尼：有版权，就是这么为所欲为！《蜘蛛侠平行宇宙》剧情&彩蛋深度解析.mp4\n",
      "999_-941593262_BV1pf421B7K8.mp4\n",
      "867_81573971420550734_BV1cftDeCEeo.mp4\n",
      "672_935715068_BV1rT4y117Ak.mp4\n",
      "957_445639872_BV1vj411U71A.mp4\n",
      "804_-792202239_BV1Mz421Y7X1.mp4\n",
      "941_620791473_BV1Ab4y1g7dE.mp4\n",
      "788_80677558277468646_BV1q2vKebEEk.mp4\n",
      "604_218266892_BV1w8411b7Ya.mp4\n",
      "684_-892098560_BV1iJ4m1G73e.mp4\n",
      "768_-841046128_BV1JM4m1174t.mp4\n",
      "762_-241000209_BV1pU411S7nq.mp4\n",
      "983_1751887344_BV1Gx421y7CL.mp4\n",
      "949_955947821_BV1VW4y1Z7ng.mp4\n",
      "823_81958157726458267_BV1d9sde6EBm.mp4\n",
      "858_113193695317440_BV1BmsYejE6D.mp4\n",
      "863_113193477213126_BV1nxseenEgf.mp4\n",
      "929_1050398178_BV1kH4y1Y7Xo.mp4\n",
      "822_81958157709688101_BV1ddsdeuE7P.mp4\n",
      "748_113139421020702_BV1s742ewEHi.mp4\n",
      "764_-841118157_BV1dM4m1y79j.mp4\n",
      "977_113193191998302_BV1MQseeYEio.mp4\n",
      "995_-891322835_BV1JJ4m1M7XG.mp4\n",
      "914_82086236004595440_BV19SWaeAE7k.mp4\n",
      "843_-345243756_BV1Mt421V7h3.mp4\n",
      "825_81830119675504228_BV1jDxjePEzX.mp4\n",
      "851_113193779200998_BV1hPseevEQc.mp4\n",
      "614_-841374409_BV1JM4m127mG.mp4\n",
      "802_-741780742_BV1R6421f78i.mp4\n",
      "996_-941458455_BV1Pf421z7kZ.mp4\n",
      "877_81573986956252137_BV14st4eUEKp.mp4\n",
      "603_-741161712_BV14r421M7yN.mp4\n",
      "777_1800051293_BV1it421W7Tb.mp4\n",
      "787_80549496436358985_BV1dGiNedECz.mp4\n",
      "944_913542580_BV1nM4y14788.mp4\n",
      "855_113193846312372_BV1YZsYezE6k.mp4\n",
      "753_81573987677876155_BV1mCtxemELE.mp4\n",
      "1142_112870465474194_BV1cEvTeqE7y.mp4\n",
      "803_-742120923_BV1wr421c7KE.mp4\n",
      "931_-747245110_BV1K642137g2.mp4\n",
      "776_-391416569_BV1b4421D74Y.mp4\n",
      "898_81573982359299652_BV1TJteeKEAR.mp4\n",
      "756_82342347638981744_BV1yXHRerEFL.mp4\n",
      "806_-692388715_BV1ii421S7pp.mp4\n",
      "805_-192230633_BV1ny411h7s1.mp4\n",
      "752_81445938352428574_BV1SmbPetEgk.mp4\n",
      "904_81702049969681661_BV1X444eWEoG.mp4\n",
      "868_81573977191919066_BV1Nitke4EB3.mp4\n",
      "607_615900670_BV1qh4y1j7g7.mp4\n",
      "890_81958174067142858_BV1ZKsheqEQ8.mp4\n",
      "861_113193812757123_BV1vRsYerEbr.mp4\n",
      "816_113192604797595_BV1bPsaeoE34.mp4\n",
      "894_81445940365961825_BV1gEbceSESQ.mp4\n",
      "629_622574499_BV1Ub4y1V7zs.mp4\n",
      "853_113193879867249_BV156sieUECK.mp4\n",
      "953_530801924_BV12u411j7kD.mp4\n",
      "820_81958157541916236_BV1oXsde3E2c.mp4\n",
      "626_793879518_BV13C4y1C79e.mp4\n",
      "819_81830127141364121_BV1DHxNeWEJM.mp4\n",
      "615_1056190349_BV11H4y1F7Qv.mp4\n",
      "956_358283128_BV1kX4y1e7EJ.mp4\n",
      "624_-597171391_BV1ny421Y7Ln.mp4\n",
      "633_621274569_BV16b4y1u7RG.mp4\n",
      "784_82086249040886108_BV1wYW3eWE8R.mp4\n",
      "745_113193426882627_BV1bGseeFEjr.mp4\n",
      "600_-991177876_BV1XZ421T7cx.mp4\n",
      "637_407807824_BV1XG411C7fB.mp4\n",
      "780_81573977980448112_BV16Wtre1ExR.mp4\n",
      "683_-241589494_BV1bS411A7WX.mp4\n",
      "772_-441024290_BV1VT421r7AX.mp4\n",
      "609_-691046973_BV1Ei421a7yC.mp4\n",
      "900_81573987979672896_BV1j1tse4E3V.mp4\n",
      "836_84135239002032203_BV1MHTke5EkK.mp4\n",
      "897_81573993465822209_BV1j8tjevEKh.mp4\n",
      "713_113175139720946_BV1hytrewEXi.mp4\n",
      "943_956114446_BV1WW4y1d7qD.mp4\n",
      "840_-544461184_BV12m421L75A.mp4\n",
      "Movietalk《索多玛的一百二十天》深入解读.mp4\n",
      "976_113193594719794_BV1oDsYe5EQx.mp4\n",
      "847_113193829534629_BV1YFseeMEsm.mp4\n",
      "928_-646763417_BV1RS421K7C9.mp4\n",
      "746_287263849_BV19f4y1D7vp.mp4\n",
      "959_230636765_BV1wh411P7dw.mp4\n",
      "919_-742556428_BV1Cr42157PL.mp4\n",
      "799_-591658503_BV1p1421r7BM.mp4\n",
      "793_81445937060582870_BV1PnbKeRE5u.mp4\n",
      "933_239024504_BV1ce41127Y6.mp4\n",
      "967_357926336_BV1CX4y1v72e.mp4\n",
      "794_81061737064989629_BV1zMaWeqEKQ.mp4\n",
      "966_358002705_BV1MX4y1i73q.mp4\n",
      "676_310103058_BV1TA41127XT.mp4\n",
      "899_81573982392853816_BV1NpteePEeH.mp4\n",
      "844_112528121661440_BV1SyTPenE3V.mp4\n",
      "797_-491511561_BV1JE421A72p.mp4\n",
      "宫崎骏拿了奥斯卡奖的收山大作被批看不懂【你想活出怎样的人生】超多隐喻口碑两极化？.mp4\n"
     ]
    }
   ],
   "source": [
    "video_path = \"/data1/video_understanding/dataset/video/600-1499-videos\"\n",
    "sub_path = \"/data1/video_understanding/dataset/sub/\"\n",
    "audio_path = \"/data1/video_understanding/dataset/audio/2368-2999-audio\"\n",
    "\n",
    "n_missing = 0\n",
    "for aud in os.listdir(video_path):\n",
    "    if f'{aud[:-4]}_sub.txt' in os.listdir(sub_path):\n",
    "        pass\n",
    "    else:\n",
    "        print(aud)\n",
    "        n_missing = n_missing + 1"
   ]
  },
  {
   "cell_type": "code",
   "execution_count": 10,
   "metadata": {},
   "outputs": [
    {
     "data": {
      "text/plain": [
       "133"
      ]
     },
     "execution_count": 10,
     "metadata": {},
     "output_type": "execute_result"
    }
   ],
   "source": [
    "n_missing"
   ]
  },
  {
   "cell_type": "code",
   "execution_count": 20,
   "metadata": {},
   "outputs": [
    {
     "name": "stdout",
     "output_type": "stream",
     "text": [
      "77\n"
     ]
    }
   ],
   "source": [
    "print(n_missing)"
   ]
  }
 ],
 "metadata": {
  "kernelspec": {
   "display_name": "video_understanding_env",
   "language": "python",
   "name": "python3"
  },
  "language_info": {
   "codemirror_mode": {
    "name": "ipython",
    "version": 3
   },
   "file_extension": ".py",
   "mimetype": "text/x-python",
   "name": "python",
   "nbconvert_exporter": "python",
   "pygments_lexer": "ipython3",
   "version": "3.10.10"
  }
 },
 "nbformat": 4,
 "nbformat_minor": 2
}
