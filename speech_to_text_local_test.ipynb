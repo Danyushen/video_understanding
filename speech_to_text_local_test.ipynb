{
 "cells": [
  {
   "cell_type": "code",
   "execution_count": 1,
   "metadata": {},
   "outputs": [],
   "source": [
    "import whisper\n",
    "import os\n",
    "from moviepy import VideoFileClip"
   ]
  },
  {
   "cell_type": "code",
   "execution_count": null,
   "metadata": {},
   "outputs": [],
   "source": [
    "def mp4_to_wav(mp4_file, wav_file):\n",
    "    video = VideoFileClip(mp4_file)\n",
    "    video.audio.write_audiofile(wav_file)\n",
    "    video.close()"
   ]
  },
  {
   "cell_type": "code",
   "execution_count": null,
   "metadata": {},
   "outputs": [],
   "source": [
    "def transcribe_audio(model, audio_path, sub_path):\n",
    "    transcript = model.transcribe(\n",
    "        word_timestamps=True,\n",
    "        audio=audio_path\n",
    "    )\n",
    "\n",
    "    with open(f'{sub_path}/{audio_path}_sub', \"w\") as f:\n",
    "        for segment in transcript['segments']:\n",
    "            #word-level\n",
    "    #       f.write(''.join(f\"{word['word']}[{word['start']}/{word['end']}]\" \n",
    "    #                   for word in segment['words']) + \"\\n\")\n",
    "            #sentence-level\n",
    "            f.write(f\"{segment['text']} [{segment['start']}/{segment['end']}]\\n\")\n",
    "    \n",
    "    pass"
   ]
  },
  {
   "cell_type": "code",
   "execution_count": null,
   "metadata": {},
   "outputs": [],
   "source": [
    "video_path = \"\"\n",
    "audio_path = \"\"\n",
    "sub_path = \"\"\n",
    "\n",
    "model = whisper.load_model(\"base\")\n",
    "\n",
    "for video in os.listdir('videos'):\n",
    "    if video.endswith('.mp4'):\n",
    "        mp4_to_wav(f'videos/{video}', f'audios/{video[:-4]}.wav')\n",
    "        transcribe_audio(model, f'audios/{video[:-4]}.wav', sub_path)"
   ]
  }
 ],
 "metadata": {
  "kernelspec": {
   "display_name": "video_understanding_env",
   "language": "python",
   "name": "python3"
  },
  "language_info": {
   "codemirror_mode": {
    "name": "ipython",
    "version": 3
   },
   "file_extension": ".py",
   "mimetype": "text/x-python",
   "name": "python",
   "nbconvert_exporter": "python",
   "pygments_lexer": "ipython3",
   "version": "3.10.10"
  }
 },
 "nbformat": 4,
 "nbformat_minor": 2
}
